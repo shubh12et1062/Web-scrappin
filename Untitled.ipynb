{
 "cells": [
  {
   "cell_type": "code",
   "execution_count": 1,
   "metadata": {
    "collapsed": false
   },
   "outputs": [],
   "source": [
    "from bs4 import BeautifulSoup\n",
    "import requests\n",
    " \n",
    "url = 'https://www.olx.in/item/manhattan-prep-gre-5lb-book-of-gre-practice-ID1b8pz9.html#f2772e32af'\n",
    "headers = {\n",
    "    'user-agent': 'Mozilla/5.0 (Windows NT 6.1; WOW64) AppleWebKit/537.36 (KHTML, like Gecko) Chrome/57.0.2987.133 Safari/537.36'}\n",
    " \n",
    "r = requests.get(url, headers=headers)\n"
   ]
  },
  {
   "cell_type": "code",
   "execution_count": 2,
   "metadata": {
    "collapsed": false
   },
   "outputs": [],
   "source": [
    "# make sure that the page exist\n",
    " \n",
    "if r.status_code == 200:\n",
    "    html = r.text\n",
    "    soup = BeautifulSoup(html, 'lxml')\n",
    "    title = soup.find('h1')\n",
    "    if title is not None:\n",
    "        title_text = title.text.strip()"
   ]
  },
  {
   "cell_type": "code",
   "execution_count": 3,
   "metadata": {
    "collapsed": false
   },
   "outputs": [],
   "source": [
    "location = soup.find('strong', {'class': 'c2b small'})\n",
    "if location is not None:\n",
    "    location_text = location.text.strip()\n",
    "  \n",
    "price = soup.select('div > .xxxx-large')\n",
    "if price is not None:\n",
    "    price_text = price[0].text.strip('Rs').strip()"
   ]
  },
  {
   "cell_type": "code",
   "execution_count": 4,
   "metadata": {
    "collapsed": true
   },
   "outputs": [],
   "source": [
    "images = soup.select('#bigGallery > li > a')\n",
    "img = [image['href'].strip() for image in images]\n",
    " \n",
    "description = soup.select('#textContent > p')\n",
    "if description is not None:\n",
    "    description_text = description[0].text.strip()\n",
    " \n",
    "# Creating a dictionary Object\n",
    "item = {}\n",
    "item['title'] = title_text\n",
    "item['description'] = description_text\n",
    "item['location'] = location_text\n",
    "item['price'] = price_text\n",
    "item['images'] = img"
   ]
  },
  {
   "cell_type": "code",
   "execution_count": 7,
   "metadata": {
    "collapsed": false
   },
   "outputs": [
    {
     "data": {
      "text/plain": [
       "{'description': u'Manhattan Prep GRE 5lb Book of GRE Practice Problems (2nd edition)',\n",
       " 'images': ['https://img01.olx.in/images_olxin/315105681_1_1000x700_manhattan-prep-gre-5lb-book-of-gre-practice-mumbai.jpg',\n",
       "  'https://img01.olx.in/images_olxin/315105681_2_1000x700_manhattan-prep-gre-5lb-book-of-gre-practice-upload-photos.jpg',\n",
       "  'https://img01.olx.in/images_olxin/315105681_3_1000x700_manhattan-prep-gre-5lb-book-of-gre-practice-books.jpg',\n",
       "  'https://img01.olx.in/images_olxin/315105681_4_1000x700_manhattan-prep-gre-5lb-book-of-gre-practice-books-sports-hobbies.jpg'],\n",
       " 'location': u'Malad West, Mumbai',\n",
       " 'price': u'1000',\n",
       " 'title': u'Manhattan Prep GRE 5lb Book of GRE Practice'}"
      ]
     },
     "execution_count": 7,
     "metadata": {},
     "output_type": "execute_result"
    }
   ],
   "source": [
    "item"
   ]
  },
  {
   "cell_type": "code",
   "execution_count": null,
   "metadata": {
    "collapsed": true
   },
   "outputs": [],
   "source": []
  }
 ],
 "metadata": {
  "anaconda-cloud": {},
  "kernelspec": {
   "display_name": "Python [default]",
   "language": "python",
   "name": "python2"
  },
  "language_info": {
   "codemirror_mode": {
    "name": "ipython",
    "version": 2
   },
   "file_extension": ".py",
   "mimetype": "text/x-python",
   "name": "python",
   "nbconvert_exporter": "python",
   "pygments_lexer": "ipython2",
   "version": "2.7.13"
  }
 },
 "nbformat": 4,
 "nbformat_minor": 2
}
